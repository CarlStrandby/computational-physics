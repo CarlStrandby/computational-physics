{
 "cells": [
  {
   "cell_type": "code",
   "execution_count": null,
   "metadata": {},
   "outputs": [],
   "source": [
    "#!/usr/bin/env python\n",
    "###############################################################################\n",
    "# E1code2\n",
    "###############################################################################\n",
    "\n",
    "import numpy as np\n",
    "import matplotlib.pyplot as plt\n",
    "\n",
    "# skip_header skips the first\n",
    "# row in data.csv\n",
    "array = np.genfromtxt('../signal.csv', delimiter=',', skip_header=1)\n",
    "\n",
    "fig, ax = plt.subplots()\n",
    "ax.plot(array[:, 0], array[:, 1])\n",
    "ax.set_xlabel('time (arb.unit)')\n",
    "ax.set_ylabel('signal (arb.unit)')\n",
    "ax.grid()\n",
    "\n",
    "fig.savefig('signal.pdf')"
   ]
  },
  {
   "cell_type": "code",
   "execution_count": null,
   "metadata": {
    "collapsed": false,
    "pycharm": {
     "name": "#%%\n"
    }
   },
   "outputs": [],
   "source": [
    "#!/usr/bin/env python\n",
    "###############################################################################\n",
    "# E1code4\n",
    "###############################################################################\n",
    "\n",
    "import numpy as np\n",
    "import matplotlib.pyplot as plt\n",
    "\n",
    "# skip_header skips the first\n",
    "# row in data.csv\n",
    "dt=1e-3\n",
    "array = np.genfromtxt('../Saved_trajectory.csv', delimiter=',', skip_header=1)\n",
    "print(len(array))\n",
    "fig, ax = plt.subplots()\n",
    "t = np.linspace(0,len(array)*dt,len(array))\n",
    "print(t.shape)\n",
    "ax.plot(t, array)\n",
    "ax.set_title(f\"Trajectory with dt={dt}\")\n",
    "ax.set_xlabel('time (arb.unit)')\n",
    "ax.set_ylabel('signal (arb.unit)')\n",
    "ax.grid()\n",
    "\n",
    "fig.savefig('Saved_trajectory.pdf')"
   ]
  }
 ],
 "metadata": {
  "kernelspec": {
   "display_name": "Python 3.8.10 64-bit",
   "language": "python",
   "name": "python3"
  },
  "language_info": {
   "codemirror_mode": {
    "name": "ipython",
    "version": 3
   },
   "file_extension": ".py",
   "mimetype": "text/x-python",
   "name": "python",
   "nbconvert_exporter": "python",
   "pygments_lexer": "ipython3",
   "version": "3.8.10"
  },
  "orig_nbformat": 4,
  "vscode": {
   "interpreter": {
    "hash": "916dbcbb3f70747c44a77c7bcd40155683ae19c65e1c03b4aa3499c5328201f1"
   }
  }
 },
 "nbformat": 4,
 "nbformat_minor": 2
}
